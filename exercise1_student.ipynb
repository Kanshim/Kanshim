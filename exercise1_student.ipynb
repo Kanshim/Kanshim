{
  "cells": [
    {
      "cell_type": "markdown",
      "id": "8c29289e",
      "metadata": {
        "id": "8c29289e"
      },
      "source": [
        "<a href=\"https://colab.research.google.com/github/samuel-verburg/EEA-summer-school-2025/blob/main/exercise1_student.ipynb\" target=\"_parent\"><img src=\"https://colab.research.google.com/assets/colab-badge.svg\" alt=\"Open In Colab\"/></a>"
      ]
    },
    {
      "cell_type": "markdown",
      "id": "b3ee47fe",
      "metadata": {
        "id": "b3ee47fe"
      },
      "source": [
        "#### EAA Summer School 2025: Measurement Methods for Sound Field Analysis, Reconstruction, and Reproduction\n",
        "**Exercise 1: Sound Field Reconstruction, Wave Expansions, and Regularization**\n",
        "\n",
        "**Introduction**\n",
        "\n",
        "Sound field reconstruction consists of estimating an acoustic field over time and space from a limited number of observations. These observations could correspond, for example, to measurements captured with a microphone array or a distribution of sensors.  \n",
        "Typically, in order to interpolate or extrapolate between or away from the measured positions, we need to fit a model of the sound field to the observed data. Elementary wave expansions are some of the most common models used in sound field reconstruction.\n",
        "\n",
        "In this notebook, you will learn to:\n",
        "- Expand a sound field using elementary wave functions.\n",
        "- Estimate the wave coefficients (i.e., their complex amplitudes).\n",
        "- Regularize the problem to obtain a unique, stable solution and/or promote particular solutions.\n",
        "- Reconstruct a sound field from limited observations.  \n",
        "\n",
        "To solve the optimization problem, we are going to use the package [`cvxpy`](https://www.cvxpy.org/index.html) for convex optimization. If you run this notebook in Colab, you don't need to install anything.  \n",
        "If you are using Matlab, you can download and install the package [`cvx`](https://cvxr.com/cvx/doc/install.html)."
      ]
    },
    {
      "cell_type": "code",
      "execution_count": 1,
      "id": "10754840",
      "metadata": {
        "id": "10754840"
      },
      "outputs": [],
      "source": [
        "import numpy as np\n",
        "import matplotlib.pyplot as plt\n",
        "import cvxpy as cp"
      ]
    },
    {
      "cell_type": "markdown",
      "id": "008be8ca",
      "metadata": {
        "id": "008be8ca"
      },
      "source": [
        "We start by defining a couple of functions that compute simple sound fields. These will serve to synthesize the data necessary for the exercise.\n",
        "\n",
        "- The function `Greens_free_field` computes the free-field Green's function between a receiver positioned at $\\mathbf{r}$ and a source at $\\mathbf{r}_0$:\n",
        "$$\n",
        "G(\\mathbf{r},\\mathbf{r}_0) = \\frac{\\text{e}^{\\text{j} (\\omega t - k R)}}{4 \\pi R},\n",
        "$$\n",
        "where $R$ is the distance between source and receiver, $k$ is the wavenumber, $\\omega$ is the angular frequency, and $t$ is the time. Note that we are considering harmonic sound fields and will drop the term $e^{j\\omega t}$ for the calculations.\n",
        "\n",
        "- The function `Greens_room` computes the Green's function in a 2D rectangular domain of dimensions $L_x, L_y$ with lightly damped boundaries. This could resemble the sound field inside a room at low frequencies:\n",
        "$$\n",
        "G(\\mathbf{r},\\mathbf{r}_0) = \\frac{-1}{L_x L_y}\\sum_{n} \\frac{\\Psi_n(\\mathbf{r}) \\Psi_n(\\mathbf{r}_0)}{k^2 - k_n^2 - jk / (\\tau c)} \\text{e}^{\\text{j} \\omega  t},\n",
        "$$\n",
        "where $k_n = \\sqrt{(\\pi n_x / L_x)^2 + (\\pi n_y / L_y)^2}$ is the wavenumber of mode $n=(n_x,n_y)$, $\\tau$ is a time constant that controls the damping (assumed the same for all modes), and $\\Psi_n$ are the mode shapes:\n",
        "$$\n",
        "\\Psi_n(\\mathbf{r}) = \\cos(\\pi n_x x / L_x) \\cos(\\pi n_y y / L_y).\n",
        "$$\n",
        "\n",
        "For simplicity, we will consider 2D simulations and wave expansions."
      ]
    },
    {
      "cell_type": "code",
      "execution_count": 2,
      "id": "b392658b",
      "metadata": {
        "id": "b392658b"
      },
      "outputs": [],
      "source": [
        "def Greens_free_field(x, y, x0, y0, f, c):\n",
        "    \"\"\"Compute the 2D Green's function in free field.\"\"\"\n",
        "    \"\"\"\n",
        "    Parameters:\n",
        "    x, y : np.ndarray\n",
        "        Receiver coordinates.\n",
        "    x0, y0 : float\n",
        "        Source coordinates.\n",
        "    f : float\n",
        "        Frequency.\n",
        "    c : float\n",
        "        Speed of sound.\n",
        "    Returns:\n",
        "    G : np.ndarray\n",
        "        The computed Green's function at the specified coordinates.\n",
        "    \"\"\"\n",
        "    r = np.sqrt((x - x0)**2 + (y - y0)**2)\n",
        "    k = 2 * np.pi * f / c\n",
        "    G = np.exp(-1j * k * r) / (4 * np.pi * r)\n",
        "    return G\n",
        "\n",
        "def Greens_room(x, y, x0, y0, Lx, Ly, Nx, Ny, f, tau, c):\n",
        "    \"\"\"Compute the 2D Green's function in a lightly damped rectangular domain.\"\"\"\n",
        "    \"\"\"\n",
        "    Parameters:\n",
        "    x, y : np.ndarray\n",
        "        Receiver coordinates.\n",
        "    x0, y0 : float\n",
        "        Source coordinates.\n",
        "    Lx, Ly : float\n",
        "        Dimensions of the rectangular domain.\n",
        "    Nx, Ny : int\n",
        "        Number of modes in the x and y directions.\n",
        "    f : float\n",
        "        Frequency.\n",
        "    tau : float\n",
        "        Time constant (damping).\n",
        "    c : float\n",
        "        Speed of sound.\n",
        "    Returns:\n",
        "    G : np.ndarray\n",
        "        The computed Green's function at the specified coordinates.\n",
        "    \"\"\"\n",
        "    def mode_shapes(nx, ny, x, y):\n",
        "        return np.cos(np.pi * nx * x / Lx) * np.cos(np.pi * ny * y / Ly)\n",
        "\n",
        "    k = 2 * np.pi * f / c\n",
        "    G = 0\n",
        "    for nx in range(Nx):\n",
        "        for ny in range(Ny):\n",
        "            mode_xy = mode_shapes(nx, ny, x, y)\n",
        "            mode_x0y0 = mode_shapes(nx, ny, x0, y0)\n",
        "            k_n = np.sqrt((np.pi * nx / Lx)**2 + (np.pi * ny / Ly)**2)\n",
        "            G += mode_xy * mode_x0y0 / (k**2 - k_n**2 - 1j*k / (tau * c))\n",
        "    return -G/(Lx * Ly)\n",
        "\n"
      ]
    },
    {
      "cell_type": "markdown",
      "id": "d2d8fbc9",
      "metadata": {
        "id": "d2d8fbc9"
      },
      "source": [
        "We define some parameters like the speed of sound, frequency of the sound field, dimensions of the room, number of modes, and damping.\n",
        "\n",
        "We then compute the resulting sound field on a fine grid. This will be the reference against which we will compare the reconstructed sound field."
      ]
    },
    {
      "cell_type": "code",
      "execution_count": 3,
      "id": "27887bf5",
      "metadata": {
        "id": "27887bf5"
      },
      "outputs": [],
      "source": [
        "# Define parameters\n",
        "c = 343\n",
        "f = 89.3\n",
        "Lx, Ly = 5.0, 3.0\n",
        "Nx, Ny = 10, 10\n",
        "x0, y0 = 0.1, 0.1\n",
        "tau = 0.5\n",
        "\n",
        "# Compute the Green's function on a grid\n",
        "X, Y = np.meshgrid(np.linspace(0, Lx, int(Lx*100)), np.linspace(0, Ly, int(Ly*100)))\n",
        "r_rec = np.array([X.flatten(), Y.flatten()]).T\n",
        "p_ref = Greens_room(r_rec[:, 0], r_rec[:, 1], x0, y0, Lx, Ly, Nx, Ny, f, tau, c)"
      ]
    },
    {
      "cell_type": "markdown",
      "id": "9d05a9fa",
      "metadata": {
        "id": "9d05a9fa"
      },
      "source": [
        "**ex1.0**:\n",
        "\n",
        "To simulate measurements with a microphone array, take `m = 15` random samples from the grid. We need both the positions `r` and the pressure at those positions `p`.  \n",
        "An easy way to do this is by sampling some indices using\n",
        "\n",
        "`indices = np.random.choice(p_ref.size, m, replace=False)`\n",
        "\n",
        "and then getting the positions and pressure values for those indices.\n",
        "\n",
        "**ex1.1**:\n",
        "\n",
        "When dealing with measured data, there will always be noise. Therefore, we need to add noise to the observations. To get `m` random numbers from a standard normal distribution, you can use\n",
        "\n",
        "`np.random.randn(m)`\n",
        "\n",
        "Remember that since we are working in the frequency domain, the pressure is complex, so you need to add complex-valued noise. Scale the noise to obtain a \"reasonable\" signal-to-noise ratio (e.g., 20 dB).\n"
      ]
    },
    {
      "cell_type": "code",
      "execution_count": 4,
      "id": "6c677da7",
      "metadata": {
        "id": "6c677da7"
      },
      "outputs": [],
      "source": [
        "# Here comes your code:\n",
        "\n",
        "np.random.seed(42)\n",
        "m = 15\n",
        "indices = np.random.choice(p_ref.size, m, replace=False)\n",
        "p = p_ref[indices]\n",
        "p += 0.1 * (np.random.randn(m) + 1j * np.random.randn(m)) * np.sqrt(np.mean(np.abs(p)**2))\n",
        "r = r_rec[indices]\n",
        "\n",
        "\n"
      ]
    },
    {
      "cell_type": "markdown",
      "id": "db6a3c89",
      "metadata": {
        "id": "db6a3c89"
      },
      "source": [
        "The following cell plots a figure of the reference and sampled locations to check what we have done so far."
      ]
    },
    {
      "cell_type": "code",
      "execution_count": 5,
      "id": "21f40893",
      "metadata": {
        "id": "21f40893",
        "outputId": "ef830d1b-7781-4b77-cbc3-f1831919546b",
        "colab": {
          "base_uri": "https://localhost:8080/",
          "height": 333
        }
      },
      "outputs": [
        {
          "output_type": "display_data",
          "data": {
            "text/plain": [
              "<Figure size 500x300 with 2 Axes>"
            ],
            "image/png": "[encoded data removed]"
          },
          "metadata": {}
        }
      ],
      "source": [
        "# Figure of the reference pressure over space and the sampled points\n",
        "fig = plt.figure(figsize=(5, 3))\n",
        "im = plt.imshow(20 * np.log10(np.abs(p_ref)).reshape(X.shape), extent=(0, Lx, 0, Ly), aspect='auto', cmap='viridis')\n",
        "plt.scatter(r[:, 0], r[:, 1], c='black', s=10, label='Sampled Points')\n",
        "plt.legend(loc='upper right')\n",
        "fig.colorbar(im, label='Magnitude (dB)')\n",
        "plt.title('Reference pressure')\n",
        "plt.xlabel('x (m)')\n",
        "plt.ylabel('y (m)')\n",
        "plt.show()"
      ]
    },
    {
      "cell_type": "markdown",
      "id": "98ff0407",
      "metadata": {
        "id": "98ff0407"
      },
      "source": [
        "**Plane wave expansion.**\n",
        "\n",
        "One of the most common models in sound field reconstruction is the plane wave expansion, in which the sound field is expressed as the sum of a finite number of propagating plane waves:\n",
        "\n",
        "$$\n",
        "p(\\mathbf{r}, t) = \\sum_{i=0}^{n-1} x_i \\text{e}^{\\text{j} (\\omega t - \\mathbf{k}_i \\cdot \\mathbf{r})}\n",
        "$$\n",
        "\n",
        "where $n$ is the number of plane waves in the expansion, and $x_i$ is the coefficient of the $i^\\text{th}$ wave. These coefficients are complex numbers that represent the amplitude and phase of each wave. We do not know the $x_i$ in principle, and they are precisely what we want to estimate from the measurements. Once these coefficients are estimated, it is possible to approximate the sound field at any position (more on that later).\n",
        "\n",
        "The exponential term $\\text{e}^{-\\text{j} \\mathbf{k}_i \\cdot \\mathbf{r}}$ accounts for the wave propagation, which is just a phase shift since we are considering plane waves. The term $\\mathbf{k}_i$ is the wavenumber vector of the $i^\\text{th}$ wave. For propagating plane waves, this vector points in the direction of propagation, i.e., $\\mathbf{k}_i = k(\\cos(\\theta_i), \\sin(\\theta_i))$, with $k= 2 \\pi f / c$. It is up to us to define the wave directions. Typically, the angles $\\theta_i$ are uniformly sampled on the unit circle (in 2D) or on the unit sphere (in 3D).\n",
        "\n",
        "Here, we consider that the sound field is composed only of propagating plane waves. This is a valid assumption far from sound sources, but a \"full\" solution would also include evanescent waves [Williams1999].\n",
        "\n",
        "Since we have multiple measurements, it is convenient to express the wave expansion algebraically:\n",
        "\n",
        "$$\n",
        "\\mathbf{p} = \\mathbf{A} \\mathbf{x} + \\mathbf{n},\n",
        "$$\n",
        "\n",
        "where $\\mathbf{p}\\in \\mathbb{C}^m$ contains the pressure at the measurement positions, $\\mathbf{A} \\in \\mathbb{C}^{m\\times n}$ is a matrix whose elements are the complex exponentials $a_{i,j} = \\text{e}^{-\\text{j} \\mathbf{k}_i \\cdot \\mathbf{r}_j}$, $\\mathbf{x}\\in \\mathbb{C}^n$ contains the unknown wave coefficients, and $\\mathbf{n}\\in \\mathbb{C}^m$ is a noise term. Note that this noise term combines both the measurement noise and a possible discrepancy between the actual sound field and the plane wave model."
      ]
    },
    {
      "cell_type": "markdown",
      "id": "7eacffcb",
      "metadata": {
        "id": "7eacffcb"
      },
      "source": [
        "**ex1.2**:\n",
        "\n",
        "Create a plane wave expansion matrix.\n",
        "- Get the angles `thetas` for `n = 360` directions.\n",
        "- Compute the wavenumber vector for each direction. You will get an array `k` of size `(n, 2)`.\n",
        "- Compute the plane wave expansion matrix `A` using the wavenumber vectors `k` and the measurement positions `r`."
      ]
    },
    {
      "cell_type": "code",
      "execution_count": null,
      "id": "74f59a67",
      "metadata": {
        "id": "74f59a67"
      },
      "outputs": [],
      "source": [
        "# Here comes your code:\n",
        "\n",
        "n = 360\n",
        "thetas = np.linspace(0, 2 * np.pi, n)\n",
        "\n",
        "k = 2*np.pi*\n",
        "\n"
      ]
    },
    {
      "cell_type": "markdown",
      "id": "851a0a33",
      "metadata": {
        "id": "851a0a33"
      },
      "source": [
        "**Optimization problem.**\n",
        "\n",
        "The previous expression, $\\mathbf{p} = \\mathbf{A} \\mathbf{x} + \\mathbf{n}$, is a linear system of equations with $n$ unknowns (one for each wave coefficient in the expansion) and $m$ equations (one for each sensor in the array). The goal is to estimate $\\mathbf{x}$ from the measurements $\\mathbf{p}$. However, this is most likely an ill-posed problem because:\n",
        "\n",
        "- We only have access to a limited number of measurements. Typical microphone arrays have, at most, a few tens of microphones, and practically deploying hundreds of sensors over space is impractical and costly. Therefore, the number of unknowns is likely larger than the number of equations, and thus there are infinitely many solutions to the system of equations.\n",
        "\n",
        "- The matrix $\\mathbf{A}$ is ill-conditioned. That means that some of its rows or columns are linearly dependent. Linear dependency of the rows can be avoided by distributing the sensors over space. However, the column linear dependency comes from the plane wave expansion model, and there is not much we can do about it. An ill-conditioned $\\mathbf{A}$ makes the solutions extremely sensitive to small perturbations in the input data, such as noise, leading to erroneous estimations [Hansen1998].\n",
        "\n",
        "A naive way of solving this problem would be the least-squares solution\n",
        "\n",
        "$$\n",
        "\\tilde{\\mathbf{x}}_\\text{ls} = \\arg \\min_{\\mathbf{x}\\in \\mathbb{C}^n} \\| \\mathbf{A} \\mathbf{x} - \\mathbf{p} \\|^2_2\n",
        "$$\n",
        "\n",
        "The solution $\\tilde{\\mathbf{x}}_\\text{ls}$ is the one that minimizes the Euclidean distance between the measurements and the fitted model. Even though it's simple, this solution will fail if $\\mathbf{A}$ is ill-conditioned, since the noise will be largely amplified. You can check the conditioning of $\\mathbf{A}$ by computing its condition number, i.e., the ratio between the largest and smallest singular values. A large condition number indicates that the problem is very sensitive to small perturbations in the data [Hansen1998]."
      ]
    },
    {
      "cell_type": "code",
      "execution_count": null,
      "id": "830f2a90",
      "metadata": {
        "id": "830f2a90",
        "outputId": "3308903f-f579-4524-bd01-f618c8160a86"
      },
      "outputs": [
        {
          "name": "stdout",
          "output_type": "stream",
          "text": [
            "Condition number of A: 8.04e+05\n"
          ]
        }
      ],
      "source": [
        "cond_A = np.linalg.cond(A)\n",
        "print(f\"Condition number of A: {cond_A:.2e}\")"
      ]
    },
    {
      "cell_type": "markdown",
      "id": "f65c444e",
      "metadata": {
        "id": "f65c444e"
      },
      "source": [
        "**Regularization.**\n",
        "\n",
        "Regularization methods can help us solve ill-posed problems by including additional constraints to arrive at unique, stable solutions.\n",
        "\n",
        "- **$\\ell_2$ regularization**\n",
        "\n",
        "Arguably the most common regularization is $\\ell_2$ regularization, also known as Tikhonov regularization or ridge regression. This regularization aims to find the solution that both fits the data and has minimum energy:\n",
        "\n",
        "$$\n",
        "\\tilde{\\mathbf{x}}_\\text{l2} = \\arg \\min_{\\mathbf{x}\\in \\mathbb{C}^n} \\| \\mathbf{A} \\mathbf{x} - \\mathbf{p} \\|^2_2 + \\alpha \\| \\mathbf{x} \\|^2_2\n",
        "$$\n",
        "\n",
        "You can see that the first term is similar to the least-squares solution, but we add a second term that penalizes large $\\| \\mathbf{x} \\|^2_2$. In this way, we control the energy of the solution so that it doesn't \"explode\" due to ill-conditioning. The parameter $\\alpha$ controls the relative weight of the two terms. There are many different ways to choose $\\alpha$ automatically (L-curve criterion, generalized cross-validation, discrepancy principle, etc.), but to keep it simple, we will just choose it manually.\n",
        "\n",
        "$\\ell_2$ regularization is simple, efficient, and well understood. It can be shown that applying this regularization has a low-pass filter effect on the solution, and therefore the estimated coefficients $\\tilde{\\mathbf{x}}_\\text{l2}$ tend to be smooth, with many coefficients that are non-zero. $\\ell_2$ regularization effectively filters out the noise, but sometimes a smooth solution is not desirable, for example, if we know beforehand that the sound field can be expressed by just a few plane waves.\n",
        "\n",
        "- **$\\ell_1$ regularization**\n",
        "\n",
        "A more recent but popular strategy is $\\ell_1$ regularization, also known as compressive sensing or lasso regression. In this case, the regularization aims to find the solution that fits the data and has minimum $\\ell_1$ norm [Candes2008]:\n",
        "\n",
        "$$\n",
        "\\tilde{\\mathbf{x}}_\\text{l1} = \\arg \\min_{\\mathbf{x}\\in \\mathbb{C}^n} \\| \\mathbf{A} \\mathbf{x} - \\mathbf{p} \\|^2_2 + \\alpha \\| \\mathbf{x} \\|_1\n",
        "$$\n",
        "\n",
        "where the $\\ell_1$ norm is the sum of the magnitudes of the vector elements:\n",
        "\n",
        "$$\n",
        "\\| \\mathbf{x} \\|_1 = \\sum_{i=0}^n |x_i|.\n",
        "$$\n",
        "\n",
        "It can be shown that $\\ell_1$ regularization promotes sparse solutions, i.e., solutions with a small number of non-zero entries. Therefore, unlike the $\\ell_2$ solutions, $\\tilde{\\mathbf{x}}_\\text{l1}$ is not smooth. This is very convenient when we know that the sound field can be represented by a few of the expansion functions. For example, for the case of the rectangular room, we know that the mode shapes are a product of two cosines corresponding to standing waves in the room, and each of these cosines can be expressed as the sum of two propagating plane waves. Therefore, we only need four waves out of the 360 to describe the sound field at a modal frequency [Kuttruff2024].\n",
        "\n",
        "While there is no closed-form solution, the $\\ell_1$ norm is convex, and therefore it can be solved efficiently.\n",
        "There is a whole field of research in signal processing dedicated to compressive sensing and sparse signal recovery, which aims to recover signals with extremely limited data (well below the Nyquist sampling rate) based on their sparsity in some representation domain. For an excellent introduction, see [Candes2008]."
      ]
    },
    {
      "cell_type": "markdown",
      "id": "db7d5c93",
      "metadata": {
        "id": "db7d5c93"
      },
      "source": [
        "**ex1.3**:\n",
        "\n",
        "Solve the optimization problem for:\n",
        "- The least-squares solution, `x_ls`\n",
        "- With $\\ell_2$ regularization, `x_l2`\n",
        "- With $\\ell_1$ regularization, `x_l1`\n",
        "\n",
        "The syntax for using the `cvxpy` package is very simple. For example, if we want to solve the least-squares problem, we first define a complex variable of size `n`:\n",
        "\n",
        "`x_ls = cp.Variable(n, complex=True)`\n",
        "\n",
        "Then we define the cost function that we want to minimize:\n",
        "\n",
        "`cost = cp.sum_squares(A @ x_ls - p)`\n",
        "\n",
        "Next, we create a problem object:\n",
        "\n",
        "`prob = cp.Problem(cp.Minimize(cost))`\n",
        "\n",
        "and finally solve it:\n",
        "\n",
        "`prob.solve()`\n",
        "\n",
        "We get the estimated values by calling:\n",
        "\n",
        "`x_ls.value`"
      ]
    },
    {
      "cell_type": "code",
      "execution_count": null,
      "id": "66106d8a",
      "metadata": {
        "id": "66106d8a"
      },
      "outputs": [],
      "source": [
        "# Here comes your code:"
      ]
    },
    {
      "cell_type": "markdown",
      "id": "1867b919",
      "metadata": {
        "id": "1867b919"
      },
      "source": [
        "**ex1.4**:\n",
        "\n",
        "Plot the magnitude of the coefficients you found as a function of the directions $\\theta_i$.\n",
        "Does it look like what you expect?\n",
        "\n",
        "Note that the magnitude of the least-squares solution can be completely off, so you might need to adjust the figure or plot it in a separate figure.\n",
        "\n",
        "Experiment with different regularization parameters, `alpha_l2` and `alpha_l1`, and see how the results change. You can also change the frequency of the sound field, the number of measurements, and the damping of the modes."
      ]
    },
    {
      "cell_type": "code",
      "execution_count": null,
      "id": "047602f2",
      "metadata": {
        "id": "047602f2"
      },
      "outputs": [],
      "source": [
        "# Here comes your code:"
      ]
    },
    {
      "cell_type": "markdown",
      "id": "87578a2f",
      "metadata": {
        "id": "87578a2f"
      },
      "source": [
        "**Reconstruction**\n",
        "\n",
        "Once the wave coefficients are estimated, we can reconstruct the sound field at positions other than the measured ones by evaluating the plane wave model at those positions:\n",
        "\n",
        "$$\n",
        "\\tilde{p}(\\mathbf{r}_\\text{rec}, t) = \\sum_{i=0}^{n-1} \\tilde{x}_i \\text{e}^{\\text{j} (\\omega t - \\mathbf{k}_i \\cdot \\mathbf{r}_\\text{rec})}\n",
        "$$\n",
        "\n",
        "or in matrix form:\n",
        "\n",
        "$$\n",
        "\\tilde{\\mathbf{p}}_\\text{rec} = \\mathbf{B} \\tilde{\\mathbf{x}}\n",
        "$$\n",
        "\n",
        "where the matrix $\\mathbf{B}$ contains the complex exponentials evaluated at the reconstruction positions, and $\\tilde{\\mathbf{x}}$ is the estimated wave coefficients (e.g., the least-squares, $\\ell_2$, or $\\ell_1$ solutions).\n"
      ]
    },
    {
      "cell_type": "markdown",
      "id": "31e8b014",
      "metadata": {
        "id": "31e8b014"
      },
      "source": [
        "**ex1.5**:\n",
        "\n",
        "- Compute the reconstructed pressure at the original grid positions `r_rec` by first forming the matrix `B` and then multiplying it by the different solutions: `x_ls`, `x_l2`, and `x_l1`.\n",
        "\n",
        "- Plot the results in a figure and compare them with the reference field.\n"
      ]
    },
    {
      "cell_type": "code",
      "execution_count": null,
      "id": "73f710b7",
      "metadata": {
        "id": "73f710b7"
      },
      "outputs": [],
      "source": [
        "# Here comes your code:"
      ]
    },
    {
      "cell_type": "markdown",
      "id": "c30a15b3",
      "metadata": {
        "id": "c30a15b3"
      },
      "source": [
        "**Bonus exercises / deliverables**\n",
        "\n",
        "You can try to solve a similar reconstruction problem, but for a different sound field—namely, the one generated by a point source radiating in free field. For that, you can use the function `Greens_free_field` defined at the top of this notebook. Note that the sound field is now a spherical wave that decays with distance.\n",
        "\n",
        "- How do the $\\ell_2$ and $\\ell_1$ solutions compare now? Can you explain the results?\n",
        "\n",
        "- Is a plane wave expansion a good model for this sound field? Can you think of a different expansion that might be better suited? How would you implement it?\n",
        "\n",
        "- The $\\ell_2$ and $\\ell_1$ solutions are just two of many regularization strategies. You can try to implement different regularizations using `cvxpy`. For example, the Elastic Net penalizes both the $\\ell_2$ and $\\ell_1$ norms at the same time, or Total Variation minimizes $\\|\\mathbf{Dx}\\|_1$, where $\\mathbf{D}$ is an $n\\times n$ matrix, and $\\mathbf{Dx}$ is the discrete approximation of the gradient of $\\mathbf{x}$.\n",
        "\n",
        "- Change the measurement positions to form microphone arrays other than random distributions. What happens to the condition number when you consider smaller, compact arrays?\n",
        "\n",
        "- What would you need to change to solve the problems in 3D?"
      ]
    },
    {
      "cell_type": "code",
      "execution_count": null,
      "id": "d80c7330",
      "metadata": {
        "id": "d80c7330"
      },
      "outputs": [],
      "source": [
        "# Here comes your code:"
      ]
    },
    {
      "cell_type": "markdown",
      "id": "3fe0c849",
      "metadata": {
        "id": "3fe0c849"
      },
      "source": [
        "**References**\n",
        "- [Willians1999] Williams, E. G. (1999). Fourier acoustics: sound radiation and nearfield acoustical holography. Elsevier.\n",
        "- [Hansen1998] Hansen, P. C. (1998). Rank-deficient and discrete ill-posed problems: numerical aspects of linear inversion. Society for Industrial and Applied Mathematics.\n",
        "- [Kuttruff2024] Kuttruff, H., & Vorländer, M. (2024). Room acoustics. Crc Press.\n",
        "- [Candes2008] Candès, E. J., & Wakin, M. B. (2008). An introduction to compressive sampling. IEEE signal processing magazine, 25(2), 21-30.\n"
      ]
    }
  ],
  "metadata": {
    "kernelspec": {
      "display_name": "eea-summer-school-env",
      "language": "python",
      "name": "python3"
    },
    "language_info": {
      "codemirror_mode": {
        "name": "ipython",
        "version": 3
      },
      "file_extension": ".py",
      "mimetype": "text/x-python",
      "name": "python",
      "nbconvert_exporter": "python",
      "pygments_lexer": "ipython3",
      "version": "3.12.11"
    },
    "colab": {
      "provenance": []
    }
  },
  "nbformat": 4,
  "nbformat_minor": 5
}